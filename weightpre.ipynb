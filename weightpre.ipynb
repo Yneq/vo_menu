{
  "nbformat": 4,
  "nbformat_minor": 0,
  "metadata": {
    "colab": {
      "provenance": [],
      "authorship_tag": "ABX9TyPBxpaYXeQTUMvOALkzu1rp",
      "include_colab_link": true
    },
    "kernelspec": {
      "name": "python3",
      "display_name": "Python 3"
    },
    "language_info": {
      "name": "python"
    }
  },
  "cells": [
    {
      "cell_type": "markdown",
      "metadata": {
        "id": "view-in-github",
        "colab_type": "text"
      },
      "source": [
        "<a href=\"https://colab.research.google.com/github/Yneq/vo_menu/blob/Python/weightpre.ipynb\" target=\"_parent\"><img src=\"https://colab.research.google.com/assets/colab-badge.svg\" alt=\"Open In Colab\"/></a>"
      ]
    },
    {
      "cell_type": "code",
      "execution_count": 5,
      "metadata": {
        "id": "xqbtzfST86j_"
      },
      "outputs": [],
      "source": [
        "import numpy as np\n",
        "\n",
        "'''\n",
        "w1X1 +w2X2**2 +w0 =y_pred\n",
        "w1 w2 w0為權重\n",
        "X1身高\n",
        "X2性別\n",
        "'''\n",
        "# 假資料\n",
        "\n",
        "np.random.seed(0)\n",
        "\n",
        "num_samples = 1000\n",
        "\n",
        "# 0男性，1女性\n",
        "gender = np.random.randint(0, 2, size=num_samples)\n",
        "# 隨機的身高資料，在常態分布下，女生少3~10公分的隨機產出\n",
        "height = np.random.normal(loc=175, scale=10, size=num_samples)-gender*np.random.randint(3, 10, size=num_samples)\n",
        "# 自己的身高(1.71)體重(62)來決定常數減項56.7\n",
        "weight = np.random.normal(loc=0, scale=10, size=num_samples) + 0.7 * height - 5 * gender - 56.7\n",
        "\n",
        "height = height/100\n",
        "\n",
        "\n",
        "# 把資料曡成一個矩陣\n",
        "data = np.column_stack((height, gender, weight))\n"
      ]
    },
    {
      "cell_type": "code",
      "source": [
        "# 把特徵（X）跟標籤（y）分開\n",
        "X = data[:, :2]\n",
        "y = data[:, 2]\n",
        "\n",
        "# 新增一列都是1的給X, 為函數的常數值\n",
        "X = np.hstack((X, np.ones((X.shape[0], 1))))\n",
        "\n",
        "# 把資料分成訓練跟測試兩部分\n",
        "\n",
        "train_data = X[:700, :]\n",
        "train_target = y[:700]\n",
        "test_data = X[700:, :]\n",
        "test_target = y[700:]\n",
        "\n",
        "# 整理數據形態\n",
        "test_target = np.reshape(test_target, (300, 1))\n",
        "train_target = np.reshape(train_target, (700, 1))\n",
        "\n",
        "# 再來是梯度下降\n",
        "\n",
        "# 權重的矩陣w，並用0來初始化\n",
        "w = np.zeros((3, 1))\n",
        "\n",
        "# 學習率\n",
        "alpha = 0.01\n",
        "\n",
        "# 執行次數\n",
        "num_iterations = 100000\n",
        "\n",
        "# 進行梯度下降\n",
        "for i in range(num_iterations):\n",
        "    # 計算y_pred\n",
        "\n",
        "    predictions = train_data.dot(w)\n",
        "\n",
        "    # 計算誤差\n",
        "    errors = predictions - train_target\n",
        "\n",
        "    # 計算梯度\n",
        "    gradients = (1/len(train_data)) * train_data.T.dot(errors)\n",
        "\n",
        "    # 更新權重\n",
        "    w = w - alpha * gradients\n",
        "\n",
        "    # 每10000次迭代就印出目前的Cost\n",
        "    if i % 10000 == 0:\n",
        "        cost = (1/(len(train_data))) * np.sum((predictions - train_target)**2)\n",
        "        print(f\"Iteration {i}: cost = {cost}\")\n",
        "\n",
        "print(f\"Final weights: {w}\")\n",
        "\n",
        "# 計算測試資料的y_pred\n",
        "y_pred = test_data.dot(w)\n",
        "\n",
        "#最後就是60.35280798(X1)-5.37405329(X2)**2-39.83629871\n",
        "#帶入自已的身高X1=171，男生X2=0, 得到預測體重=63.3670029358(原設62)"
      ],
      "metadata": {
        "colab": {
          "base_uri": "https://localhost:8080/"
        },
        "id": "xB4_szGx-r5s",
        "outputId": "081903eb-f639-4517-b852-1bcabe94d4b3"
      },
      "execution_count": 20,
      "outputs": [
        {
          "output_type": "stream",
          "name": "stdout",
          "text": [
            "Iteration 0: cost = 3846.5280063549403\n",
            "Iteration 10000: cost = 102.31955837422603\n",
            "Iteration 20000: cost = 99.49374053457834\n",
            "Iteration 30000: cost = 97.73967961926425\n",
            "Iteration 40000: cost = 96.65088696905715\n",
            "Iteration 50000: cost = 95.97504417203963\n",
            "Iteration 60000: cost = 95.55553042330742\n",
            "Iteration 70000: cost = 95.29512698902948\n",
            "Iteration 80000: cost = 95.13348759392343\n",
            "Iteration 90000: cost = 95.03315368656659\n",
            "Final weights: [[ 60.35280798]\n",
            " [ -5.37405329]\n",
            " [-39.83629871]]\n"
          ]
        }
      ]
    },
    {
      "cell_type": "code",
      "source": [
        "\n",
        "sample_data = data[:15, :]\n",
        "\n",
        "# 提取特徵和標籤\n",
        "X_sample = sample_data[:, :2]\n",
        "y_sample_actual = sample_data[:, 2]\n",
        "\n",
        "# 新增一列都是1的給X，為函數的常數值\n",
        "X_sample = np.hstack((X_sample, np.ones((X_sample.shape[0], 1))))\n",
        "\n",
        "# 使用訓練好的權重進行預測\n",
        "y_sample_pred = X_sample.dot(w)\n",
        "\n",
        "# 建立DataFrame\n",
        "df = pd.DataFrame({\n",
        "    'Sample': range(1, 16),\n",
        "    'Actual Weight': y_sample_actual,\n",
        "    'Predicted Weight': y_sample_pred.flatten()\n",
        "})\n",
        "\n",
        "# 顯示表格\n",
        "print(df)"
      ],
      "metadata": {
        "colab": {
          "base_uri": "https://localhost:8080/"
        },
        "id": "i7vZ4VRzaA3O",
        "outputId": "76228dfb-a542-42de-85d7-95883e66b985"
      },
      "execution_count": 21,
      "outputs": [
        {
          "output_type": "stream",
          "name": "stdout",
          "text": [
            "    Sample  Actual Weight  Predicted Weight\n",
            "0        1      64.678420         59.833281\n",
            "1        2      52.180441         46.695900\n",
            "2        3      66.298273         65.525794\n",
            "3        4      48.440395         66.772276\n",
            "4        5      56.332557         60.813178\n",
            "5        6      50.768124         56.045515\n",
            "6        7      68.242108         52.842249\n",
            "7        8      38.824072         45.219434\n",
            "8        9      65.325837         55.628101\n",
            "9       10      51.961772         52.190074\n",
            "10      11      83.739985         63.170761\n",
            "11      12      86.156723         72.667985\n",
            "12      13      61.704319         74.632330\n",
            "13      14      66.180993         63.741868\n",
            "14      15      62.793190         62.168071\n"
          ]
        }
      ]
    }
  ]
}